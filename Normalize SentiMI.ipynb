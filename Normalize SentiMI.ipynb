{
 "cells": [
  {
   "cell_type": "code",
   "execution_count": null,
   "metadata": {},
   "outputs": [],
   "source": [
    "import pandas as pd\n",
    "import numpy as np\n",
    "import io\n",
    "import re\n",
    "import math"
   ]
  },
  {
   "cell_type": "code",
   "execution_count": null,
   "metadata": {
    "scrolled": true
   },
   "outputs": [],
   "source": [
    "# ganti nama file hasil proses sentiwordnet yang didapat dari tahap sebelumnya\n",
    "file = pd.read_csv('data_DIC_TOTAL.csv', delimiter=',')\n",
    "file.insert(0, \"ID\", range(0,len(file)))\n",
    "file.set_index(\"ID\")"
   ]
  },
  {
   "cell_type": "code",
   "execution_count": null,
   "metadata": {},
   "outputs": [],
   "source": [
    "file.isnull().sum()"
   ]
  },
  {
   "cell_type": "code",
   "execution_count": null,
   "metadata": {
    "scrolled": true
   },
   "outputs": [],
   "source": [
    "# menambahkan 1 pada setiap frekuensi kata yang didapat untuk menangani jumlah frekuensi = 0\n",
    "file['pos_fre'] += 1\n",
    "file['neg_fre'] += 1"
   ]
  },
  {
   "cell_type": "markdown",
   "metadata": {},
   "source": [
    "![title](pic2.png)"
   ]
  },
  {
   "cell_type": "code",
   "execution_count": null,
   "metadata": {},
   "outputs": [],
   "source": [
    "N = len(file)\n",
    "print(\"nilai N\", N)"
   ]
  },
  {
   "cell_type": "code",
   "execution_count": null,
   "metadata": {},
   "outputs": [],
   "source": [
    "file['pos_fre'].sum()"
   ]
  },
  {
   "cell_type": "code",
   "execution_count": null,
   "metadata": {},
   "outputs": [],
   "source": [
    "file['neg_fre'].sum()"
   ]
  },
  {
   "cell_type": "code",
   "execution_count": null,
   "metadata": {},
   "outputs": [],
   "source": [
    "feature_weight = []"
   ]
  },
  {
   "cell_type": "code",
   "execution_count": null,
   "metadata": {},
   "outputs": [],
   "source": [
    "%%time\n",
    "feature_weight.clear()\n",
    "\n",
    "# code untuk implementasi rumus PMI\n",
    "for itter in range(len(file)):\n",
    "    selected_term = file.loc[itter]\n",
    "    #print(selected_term['term'])\n",
    "\n",
    "    others_term = file[file['ID'] != itter]\n",
    "    \n",
    "    if selected_term['label'] == 0:\n",
    "        A = selected_term['neg_fre']\n",
    "        B = selected_term['pos_fre']\n",
    "        C = others_term['neg_fre'].sum()\n",
    "        tmp = (A*N) / ((A+B)*(A+C))\n",
    "        result = math.log2(tmp)\n",
    "    \n",
    "    elif selected_term['label'] == 1:\n",
    "        A = selected_term['pos_fre']\n",
    "        B = selected_term['neg_fre']\n",
    "        C = others_term['pos_fre'].sum()\n",
    "        tmp = (A*N) / ((A+B)*(A+C))\n",
    "        result = math.log2(tmp)\n",
    "    \n",
    "    feature_weight.append(result)    \n",
    "    #print(selected_term['term'],A,B,C,result)"
   ]
  },
  {
   "cell_type": "code",
   "execution_count": null,
   "metadata": {},
   "outputs": [],
   "source": [
    "len(feature_weight)"
   ]
  },
  {
   "cell_type": "code",
   "execution_count": null,
   "metadata": {},
   "outputs": [],
   "source": [
    "file['fea_weight'] = feature_weight"
   ]
  },
  {
   "cell_type": "code",
   "execution_count": null,
   "metadata": {},
   "outputs": [],
   "source": [
    "minA = file['fea_weight'].min()\n",
    "maxA = file['fea_weight'].max()\n",
    "\n",
    "newMin = -1\n",
    "newMax = 1\n",
    "\n",
    "normalize = []\n",
    "\n",
    "print(minA, maxA)"
   ]
  },
  {
   "cell_type": "code",
   "execution_count": null,
   "metadata": {},
   "outputs": [],
   "source": [
    "normalize.clear()\n",
    "\n",
    "for i in range(len(file)):\n",
    "    selected = file.loc[i]\n",
    "    v = selected['fea_weight']\n",
    "    \n",
    "    # code untuk normalisasi pada bobot yang sudah didapat\n",
    "    nor_minmax = (((v - minA) / (maxA - minA)) * (newMax - newMin )) + newMin\n",
    "    \n",
    "    #print (nor_minmax)\n",
    "    normalize.append(nor_minmax)  "
   ]
  },
  {
   "cell_type": "code",
   "execution_count": null,
   "metadata": {},
   "outputs": [],
   "source": [
    "len(normalize)"
   ]
  },
  {
   "cell_type": "code",
   "execution_count": null,
   "metadata": {},
   "outputs": [],
   "source": [
    "file['normalize_weight'] = normalize"
   ]
  },
  {
   "cell_type": "code",
   "execution_count": null,
   "metadata": {},
   "outputs": [],
   "source": [
    "# menyimpan hasil normalisasi dari pada file CSV. Ganti nama jika dibutuhkan\n",
    "file.to_csv('OUT_ALL.csv', encoding='utf-8')"
   ]
  },
  {
   "cell_type": "code",
   "execution_count": null,
   "metadata": {},
   "outputs": [],
   "source": []
  }
 ],
 "metadata": {
  "kernelspec": {
   "display_name": "Python 3",
   "language": "python",
   "name": "python3"
  },
  "language_info": {
   "codemirror_mode": {
    "name": "ipython",
    "version": 3
   },
   "file_extension": ".py",
   "mimetype": "text/x-python",
   "name": "python",
   "nbconvert_exporter": "python",
   "pygments_lexer": "ipython3",
   "version": "3.7.3"
  }
 },
 "nbformat": 4,
 "nbformat_minor": 4
}
